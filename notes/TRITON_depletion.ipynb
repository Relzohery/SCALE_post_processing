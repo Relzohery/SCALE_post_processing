{
 "cells": [
  {
   "cell_type": "markdown",
   "metadata": {},
   "source": [
    "### Note on TRITON DEPLETION options "
   ]
  },
  {
   "cell_type": "markdown",
   "metadata": {},
   "source": [
    "\n",
    "- The power/flux provided in the BURNDATA block is mainly used for scaling the transport flux solution to the actual flux/power level of the system\n",
    "-  Since in some situations power/flux can be known for only selected materials in the system, TRITON has option to enable the user to specify power/flux for those materials by putting negative sign in front of them in the DEPLETION block\n",
    "- TRITON approach in case power if given:\n",
    "    - initialize variable (e.g., power_unnormalized) as zero\n",
    "    - loop over all materials, get thier unnormalized (1 group collpased) flux form the transport, and compute corresponding power based on 1-group cross secions (i.e., fission, capture) and on material amount (i.e., N)[[code](https://code-int.ornl.gov/rnsd/scale/-/blob/master/packages/Origen/Core/dc/Material.cpp?ref_type=heads#L1824)]\n",
    "        \n",
    "        For material $i$, the power is computed as\n",
    "        $$\n",
    "\n",
    "           p_i = \\kappa_f \\times N{_i}\\times\\sigma_f{_i} \\times \\phi_{i_{\\text{unnormalized}}} + \\kappa_c \\times N{_i}\\times\\sigma_c{_i}  \\times \\phi_{{i}_{\\text{unnormalized}}}\n",
    "\n",
    "        $$\n",
    "\n",
    "    - accumulate the material power in the variable power_unnormalized:\n",
    "\n",
    "       $$\n",
    "        \\text{power\\_unnormalized} = \\sum_{i}^{m}  p{_i}\n",
    "       $$\n",
    "    - now compute global scaling factor $f$ as [[code](https://code-int.ornl.gov/rnsd/scale/-/blob/master/packages/Module/TDepl1d/OrigenDepletion.cpp#L983)]\n",
    "    $$\n",
    "       f = \\frac{\\text{power\\_input}}{\\text{power\\text{\\_unnormalized}}}\n",
    "    $$\n",
    "\n",
    "    - use this scaling factor to scale all materials fluxes and powers (e.g., $p_i$, $\\phi_{i_\\text{unnormalized}}$). [[code](https://code-int.ornl.gov/rnsd/scale/-/blob/master/packages/Module/TDepl1d/OrigenDepletion.cpp#L1001)]\n",
    "    \n",
    "    - note that if there are not specific materials used for as basis for normlization, we use **powers** of all materials to compute the scaling factor\n",
    "\n",
    "Rabab's changes in # 1839:\n",
    "\n",
    "- What if the user input flux level not power?\n",
    "    -  In that case, we accumulate unnormalized fluxes for those materials whose their flux is used as basis of normalization (with negative sign before them)\n",
    "\n",
    "    $$\n",
    "    \\phi_\\text{total} = \\sum_{i=1}^{m} \\phi_{{i}_\\text{{unnormalized}}}\n",
    "    $$\n",
    "\n",
    "    - the scaling factor f is computed as \n",
    "        $$\n",
    "        f = \\frac{\\text{flux\\_input}}{\\phi_\\text{total}}\n",
    "        $$\n",
    "\n",
    "    - use this scaling factor to scale all materials fluxes and powers (e.g., $p_i$, $\\phi_{i_\\text{unnormalized}}$).\n",
    "    - note that if there are not specific materials used for normlization, we use **fluxes** of all materials to compute the scaing factor\n",
    "\n",
    "\n"
   ]
  },
  {
   "cell_type": "markdown",
   "metadata": {},
   "source": [
    "### ORIGEN depletin options\n",
    "\n",
    "At this point, we have scaled/normalized flux and power for each material based on user information and transport solution of the flux. Now, how ORGIEN will use these information?    \n",
    "\n",
    "There are two modes of depletion in ORIGEN calcualtions:    \n",
    "- Deplete by power (defalut), where the power over ORIGEN depletion interval is assumed constant.   \n",
    "  - as the material inventory changes over sub-intervals, the flux will be re-computed to keep the power constant    \n",
    "  - In this mode, the scaled power of the material is passed to ORIGEN   \n",
    "  - [[code](https://code-int.ornl.gov/rnsd/scale/-/blob/master/packages/Module/TDepl1d/OrigenDepletion.cpp#L1018)]\n",
    "\n",
    "- Deplete by flux (material the are preceded by **flux** keyword in the depletion block)   \n",
    "   - the **flux** over ORIGEN depletion interval is assumed to be constant. So as the fuel inventory change over sub-intervals, the power will be adjusted accordingly, however the flux will remain constant\n",
    "   - In this mode, the scaled flux of the material is passed to ORIGEN\n",
    "   - [[Code]( https://code-int.ornl.gov/rnsd/scale/-/blob/master/packages/Module/TDepl1d/OrigenDepletion.cpp#L1005)]"
   ]
  }
 ],
 "metadata": {
  "language_info": {
   "name": "python"
  }
 },
 "nbformat": 4,
 "nbformat_minor": 2
}
